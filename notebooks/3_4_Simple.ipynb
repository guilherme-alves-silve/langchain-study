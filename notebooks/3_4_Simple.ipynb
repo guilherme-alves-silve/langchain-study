{
 "cells": [
  {
   "cell_type": "markdown",
   "metadata": {
    "editable": true,
    "slideshow": {
     "slide_type": ""
    },
    "tags": []
   },
   "source": [
    "# Setup"
   ]
  },
  {
   "cell_type": "code",
   "execution_count": 1,
   "metadata": {},
   "outputs": [],
   "source": [
    "import os\n",
    "import json\n",
    "from langchain_openai import OpenAI\n",
    "from langchain.prompts import PromptTemplate\n",
    "\n",
    "with open('../.env', 'r') as config_file:\n",
    "    config = json.loads(config_file.read())\n",
    "\n",
    "os.environ['OPENAI_API_KEY'] = config['OPENAI_API_KEY']\n",
    "os.environ['OPENAI_BASE_URL'] = config['OPENAI_BASE_URL']\n",
    "os.environ['OPENAI_API_BASE'] = config['OPENAI_BASE_URL']\n",
    "os.environ['DEFAULT_MODEL'] = config['DEFAULT_MODEL']\n",
    "model = os.environ['DEFAULT_MODEL']"
   ]
  },
  {
   "cell_type": "code",
   "execution_count": 2,
   "metadata": {},
   "outputs": [],
   "source": [
    "openai = OpenAI(model_name=model, temperature=0)"
   ]
  },
  {
   "cell_type": "markdown",
   "metadata": {},
   "source": [
    "# Simple"
   ]
  },
  {
   "cell_type": "code",
   "execution_count": 3,
   "metadata": {
    "colab": {
     "base_uri": "https://localhost:8080/"
    },
    "id": "959301hQh_yi",
    "outputId": "5401a17d-f579-4ae0-b9c4-0994b05cfe7a"
   },
   "outputs": [],
   "source": [
    "prompt_template = PromptTemplate.from_template(\"Descreva as tendências tecnológicas em {ano}.\")\n",
    "runnable_sequence = prompt_template | openai\n",
    "output = runnable_sequence.invoke({\"ano\": \"2024\"})"
   ]
  },
  {
   "cell_type": "code",
   "execution_count": 4,
   "metadata": {},
   "outputs": [
    {
     "name": "stdout",
     "output_type": "stream",
     "text": [
      "Output:\n",
      " <|channel|>analysis<|message|>Need to describe tech trends in 2024. Provide overview.<|end|><|start|>assistant<|channel|>final<|message|>## Tendências Tecnológicas de 2024 – Visão Geral\n",
      "\n",
      "| Área | Tendência principal | Por que importa? | Exemplos práticos |\n",
      "|------|---------------------|------------------|-------------------|\n",
      "| **Inteligência Artificial & Machine Learning** | *IA generativa + multimodal* | Produz conteúdo (texto, imagem, áudio, vídeo) de forma mais natural e contextualizada. | ChatGPT‑4, DALL·E 3, Midjourney V6, Stable Diffusion XL |\n",
      "| | *IA explicável (XAI)* | Aumenta a confiança em decisões automatizadas, especialmente em setores regulados. | Ferramentas como LIME, SHAP, IBM AI Explainability 360 |\n",
      "| **Computação Quântica** | *Algoritmos quânticos híbridos* | Combina computação clássica e quântica para resolver problemas de otimização e simulação mais rapidamente. | Quantum Supremacy em criptografia, otimização logística |\n",
      "| | *Hardware quântico comercial* | Processadores com 50–100 qubits disponíveis via nuvem (IBM, Rig\n"
     ]
    }
   ],
   "source": [
    "print(\"Output:\\n\", output)"
   ]
  },
  {
   "cell_type": "code",
   "execution_count": null,
   "metadata": {},
   "outputs": [],
   "source": []
  }
 ],
 "metadata": {
  "colab": {
   "provenance": []
  },
  "kernelspec": {
   "display_name": "Python 3 (ipykernel)",
   "language": "python",
   "name": "python3"
  },
  "language_info": {
   "codemirror_mode": {
    "name": "ipython",
    "version": 3
   },
   "file_extension": ".py",
   "mimetype": "text/x-python",
   "name": "python",
   "nbconvert_exporter": "python",
   "pygments_lexer": "ipython3",
   "version": "3.11.9"
  }
 },
 "nbformat": 4,
 "nbformat_minor": 4
}
