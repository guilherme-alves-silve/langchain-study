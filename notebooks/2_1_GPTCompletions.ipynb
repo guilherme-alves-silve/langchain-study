{
 "cells": [
  {
   "cell_type": "markdown",
   "id": "lrHrsGQC6fJ6",
   "metadata": {
    "editable": true,
    "id": "lrHrsGQC6fJ6",
    "slideshow": {
     "slide_type": ""
    },
    "tags": []
   },
   "source": [
    "# Setup"
   ]
  },
  {
   "cell_type": "code",
   "execution_count": 1,
   "id": "6iortgIV7lEz",
   "metadata": {
    "editable": true,
    "id": "6iortgIV7lEz",
    "slideshow": {
     "slide_type": ""
    },
    "tags": []
   },
   "outputs": [],
   "source": [
    "import os\n",
    "import json\n",
    "from openai import OpenAI"
   ]
  },
  {
   "cell_type": "code",
   "execution_count": 2,
   "id": "RAoVhdWA7lHy",
   "metadata": {
    "editable": true,
    "id": "RAoVhdWA7lHy",
    "slideshow": {
     "slide_type": ""
    },
    "tags": []
   },
   "outputs": [],
   "source": [
    "with open('../.env', 'r') as config_file:\n",
    "    config = json.loads(config_file.read())\n",
    "\n",
    "os.environ['OPENAI_API_KEY'] = config['OPENAI_API_KEY']\n",
    "os.environ['OPENAI_BASE_URL'] = config['OPENAI_BASE_URL']\n",
    "os.environ['OPENAI_API_BASE'] = config['OPENAI_BASE_URL']\n",
    "os.environ['DEFAULT_MODEL'] = config['DEFAULT_MODEL']"
   ]
  },
  {
   "cell_type": "markdown",
   "id": "0Zh2E9OE68BA",
   "metadata": {
    "id": "0Zh2E9OE68BA"
   },
   "source": [
    "# Completion"
   ]
  },
  {
   "cell_type": "code",
   "execution_count": 6,
   "id": "ad4b1e9e-e1e0-4d81-ae5b-9a24dc700e13",
   "metadata": {
    "editable": true,
    "id": "ad4b1e9e-e1e0-4d81-ae5b-9a24dc700e13",
    "slideshow": {
     "slide_type": ""
    },
    "tags": []
   },
   "outputs": [],
   "source": [
    "client = OpenAI()\n",
    "response = client.completions.create(\n",
    "  model=os.environ['DEFAULT_MODEL'],\n",
    "  prompt=\"Crie uma canção contendo apenas uma estrofe.\"\n",
    ")"
   ]
  },
  {
   "cell_type": "code",
   "execution_count": 7,
   "id": "bi_-Nr6U72DS",
   "metadata": {
    "colab": {
     "base_uri": "https://localhost:8080/"
    },
    "id": "bi_-Nr6U72DS",
    "outputId": "6289939b-1ba0-426a-9fb3-311edb583ac2"
   },
   "outputs": [
    {
     "name": "stdout",
     "output_type": "stream",
     "text": [
      "Completion(id='cmpl-lc1ohvesyhliibu7i10ep', choices=[CompletionChoice(finish_reason='stop', index=0, logprobs=None, text=\"<|channel|>analysis<|message|>We need to produce a song with only one stanza (estrofe). Likely in Portuguese. Provide lyrics. Let's do it.<|end|><|start|>assistant<|channel|>final<|message|>**Título: Luz na Estrada**\\n\\nNa estrada da vida, sigo sem medo  \\nO vento canta e o coração abre o peito  \\nEntre sombras e sonhos eu encontrei o jeito  \\nDe viver a verdade que pulsa em cada passo.\")], created=1759039802, model='openai/gpt-oss-20b', object='text_completion', system_fingerprint=None, usage=CompletionUsage(completion_tokens=77, prompt_tokens=82, total_tokens=159, completion_tokens_details=None, prompt_tokens_details=None), stats={})\n"
     ]
    }
   ],
   "source": [
    "print(response)"
   ]
  },
  {
   "cell_type": "code",
   "execution_count": 8,
   "id": "RRfIgzHI8gcb",
   "metadata": {
    "colab": {
     "base_uri": "https://localhost:8080/"
    },
    "id": "RRfIgzHI8gcb",
    "outputId": "bd04bbf5-5d41-4522-ce1d-c0b3814f825b"
   },
   "outputs": [
    {
     "name": "stdout",
     "output_type": "stream",
     "text": [
      "<|channel|>analysis<|message|>We need to produce a song with only one stanza (estrofe). Likely in Portuguese. Provide lyrics. Let's do it.<|end|><|start|>assistant<|channel|>final<|message|>**Título: Luz na Estrada**\n",
      "\n",
      "Na estrada da vida, sigo sem medo  \n",
      "O vento canta e o coração abre o peito  \n",
      "Entre sombras e sonhos eu encontrei o jeito  \n",
      "De viver a verdade que pulsa em cada passo.\n"
     ]
    }
   ],
   "source": [
    "message = (response.choices[0].text)\n",
    "print(message)"
   ]
  }
 ],
 "metadata": {
  "colab": {
   "provenance": []
  },
  "kernelspec": {
   "display_name": "Python 3 (ipykernel)",
   "language": "python",
   "name": "python3"
  },
  "language_info": {
   "codemirror_mode": {
    "name": "ipython",
    "version": 3
   },
   "file_extension": ".py",
   "mimetype": "text/x-python",
   "name": "python",
   "nbconvert_exporter": "python",
   "pygments_lexer": "ipython3",
   "version": "3.11.9"
  }
 },
 "nbformat": 4,
 "nbformat_minor": 5
}
