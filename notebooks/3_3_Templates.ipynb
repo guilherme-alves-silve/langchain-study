{
 "cells": [
  {
   "cell_type": "markdown",
   "metadata": {
    "editable": true,
    "slideshow": {
     "slide_type": ""
    },
    "tags": []
   },
   "source": [
    "# Setup"
   ]
  },
  {
   "cell_type": "code",
   "execution_count": 1,
   "metadata": {},
   "outputs": [],
   "source": [
    "import os\n",
    "import json\n",
    "from langchain_openai import ChatOpenAI,OpenAI\n",
    "from langchain.prompts import PromptTemplate,ChatPromptTemplate, HumanMessagePromptTemplate\n",
    "from langchain_core.messages import SystemMessage, HumanMessage, AIMessage\n",
    "\n",
    "with open('../.env', 'r') as config_file:\n",
    "    config = json.loads(config_file.read())\n",
    "\n",
    "os.environ['OPENAI_API_KEY'] = config['OPENAI_API_KEY']\n",
    "os.environ['OPENAI_BASE_URL'] = config['OPENAI_BASE_URL']\n",
    "os.environ['OPENAI_API_BASE'] = config['OPENAI_BASE_URL']\n",
    "os.environ['DEFAULT_MODEL'] = config['DEFAULT_MODEL']\n",
    "os.environ['GOOGLE_API_KEY'] = config['GOOGLE_API_KEY']\n",
    "model = os.environ['DEFAULT_MODEL']"
   ]
  },
  {
   "cell_type": "markdown",
   "metadata": {},
   "source": [
    "# Completion"
   ]
  },
  {
   "cell_type": "code",
   "execution_count": 2,
   "metadata": {
    "id": "eCBl659lZl7j"
   },
   "outputs": [],
   "source": [
    "template = '''\n",
    "Você é um analista financeiro.\n",
    "Escreva um relatório financeiro detalhado para a empresa \"{empresa}\" para o período {periodo}.\n",
    "\n",
    "O relatório deve ser escrito em {idioma} e incluir as seguintes análises:\n",
    "{analises}\n",
    "\n",
    "Certifique-se de fornecer insights e conclusões para cada seção.\n",
    "'''"
   ]
  },
  {
   "cell_type": "code",
   "execution_count": 3,
   "metadata": {
    "id": "zCezS4xvZl_C"
   },
   "outputs": [],
   "source": [
    "prompt_template = PromptTemplate.from_template(template=template)"
   ]
  },
  {
   "cell_type": "code",
   "execution_count": 4,
   "metadata": {
    "id": "z_YBQfANZmCi"
   },
   "outputs": [],
   "source": [
    "empresa = 'ACME Corp'\n",
    "periodo = 'Q1 2024'\n",
    "idioma = 'Português'\n",
    "analises = [\n",
    "    \"Análise do Balanço Patrimonial\",\n",
    "    \"Análise do Fluxo de Caixa\",\n",
    "    \"Análise de Tendências\",\n",
    "    \"Análise de Receita e Lucro\",\n",
    "    \"Análise de Posição de Mercado\"\n",
    "]\n",
    "analises_text = \"\\n\".join([f\"- {analise}\" for analise in analises])"
   ]
  },
  {
   "cell_type": "code",
   "execution_count": 5,
   "metadata": {},
   "outputs": [
    {
     "name": "stdout",
     "output_type": "stream",
     "text": [
      "- Análise do Balanço Patrimonial\n",
      "- Análise do Fluxo de Caixa\n",
      "- Análise de Tendências\n",
      "- Análise de Receita e Lucro\n",
      "- Análise de Posição de Mercado\n"
     ]
    }
   ],
   "source": [
    "print(analises_text)"
   ]
  },
  {
   "cell_type": "code",
   "execution_count": 6,
   "metadata": {
    "colab": {
     "base_uri": "https://localhost:8080/"
    },
    "id": "3C9tfTCDZuXr",
    "outputId": "f57170e1-95ff-4fb4-b080-c9dd7ae2b610"
   },
   "outputs": [
    {
     "name": "stdout",
     "output_type": "stream",
     "text": [
      "Prompt Gerado:\n",
      " \n",
      "Você é um analista financeiro.\n",
      "Escreva um relatório financeiro detalhado para a empresa \"ACME Corp\" para o período Q1 2024.\n",
      "\n",
      "O relatório deve ser escrito em Português e incluir as seguintes análises:\n",
      "- Análise do Balanço Patrimonial\n",
      "- Análise do Fluxo de Caixa\n",
      "- Análise de Tendências\n",
      "- Análise de Receita e Lucro\n",
      "- Análise de Posição de Mercado\n",
      "\n",
      "Certifique-se de fornecer insights e conclusões para cada seção.\n",
      "\n"
     ]
    }
   ],
   "source": [
    "prompt = prompt_template.format(\n",
    "    empresa=empresa,\n",
    "    periodo=periodo,\n",
    "    idioma=idioma,\n",
    "    analises=analises_text\n",
    ")\n",
    "print(\"Prompt Gerado:\\n\", prompt)"
   ]
  },
  {
   "cell_type": "code",
   "execution_count": 7,
   "metadata": {
    "colab": {
     "base_uri": "https://localhost:8080/"
    },
    "id": "SBYz28rrYyXd",
    "outputId": "a5e593fb-f02d-4217-9c91-99900817902c"
   },
   "outputs": [
    {
     "name": "stdout",
     "output_type": "stream",
     "text": [
      "Saída do LLM:\n",
      " <|channel|>analysis<|message|>We need to produce a financial report in Portuguese, detailed. Provide sections with analysis and conclusions. No data given; we can assume hypothetical or generic. We'll create plausible numbers. Ensure each section has insights. Let's output.<|end|><|start|>assistant<|channel|>final<|message|>**Relatório Financeiro – ACME Corp – Q1 2024**\n",
      "\n",
      "| Indicador | Valor (R$) | Variação YoY |\n",
      "|-----------|------------|--------------|\n",
      "| Receita Líquida | 12 500 000,00 | +8,3 % |\n",
      "| Lucro Líquido | 2 300 000,00 | +15,5 % |\n",
      "| EBITDA | 4 100 000,00 | +10,1 % |\n",
      "| Ativos Totais | 35 200 000,00 | –1,2 % |\n",
      "| Passivo Circulante | 12 800 000,00 | +3,0 % |\n",
      "| Patrimônio Líquido | 19 400 000,00 | +7,8 % |\n",
      "\n",
      "> **Observação:** Os valores são fictícios e servem apenas como base para a demonstração de análises.\n",
      "\n",
      "---\n",
      "\n",
      "## 1. Análise do Balanço Patrimonial\n",
      "\n",
      "### 1.1 Ativo\n",
      "- **Ativos Circulantes** (R$ 10 600 000,00) representaram 30% dos ativos totais, um aumento moderado em relação ao Q4 2023 devido à maior entrada de caixa proveniente de vendas on‑line.\n",
      "- **Ativos Não‑Circulantes**, principalmente **Imobilizado Líquido** (R$ 12 000 000,00), mostraram queda de 5% YoY, indicando a realização parcial de ativos depreciáveis e a baixa adição de novos equipamentos.\n",
      "\n",
      "### 1.2 Passivo\n",
      "- O **Passivo Circulante** aumentou 3%, impulsionado por empréstimos de curto prazo para financiar campanhas de marketing.\n",
      "- O **Passivo Não‑Circulante** manteve-se estável, com apenas R$ 1 000 000,00 de novos contratos de leasing.\n",
      "\n",
      "### 1.3 Patrimônio Líquido\n",
      "O patrimônio líquido cresceu 7,8%, refletindo a retenção de lucros e um aumento na capitalização social (emissão de ações no Q2 2024). A relação **Patrimônio/Ativo** passou de 0,58 para 0,55, indicando ligeiro aumento da alavancagem.\n",
      "\n",
      "#### Conclusão\n",
      "- O balanço demonstra solidez patrimonial, mas a redução do imobilizado sugere necessidade de investimento em inovação.\n",
      "- A alavancagem moderada (dívida/EBITDA ≈ 1,2) permanece dentro dos limites prudentes da indústria.\n",
      "\n",
      "---\n",
      "\n",
      "## 2. Análise do Fluxo de Caixa\n",
      "\n",
      "| Fonte | Valor (R$) | Comentário |\n",
      "|-------|------------|------------|\n",
      "| **Fluxo Operacional** | +3 800 000,00 | Crescimento de 20% YoY, impulsionado por aumento da margem de contribuição e redução de contas a receber. |\n",
      "| **Fluxo de Investimento** | –1 200 000,00 | Desinvestimento em ativos obsoletos; ausência de novos investimentos significativos. |\n",
      "| **Fluxo de Financiamento** | +900 000,00 | Empréstimo bancário de curto prazo e retorno parcial de capital social. |\n",
      "\n",
      "### 2.1 Fluxo Líquido\n",
      "O fluxo líquido total foi positivo (+3 500 000,00), elevando o caixa em 5% YoY.\n",
      "\n",
      "#### Conclusão\n",
      "- A ACME Corp mantém forte geração de caixa operacional.\n",
      "- Falta de investimento pode limitar a capacidade de expansão e modernização. Recomenda‑se revisão do plano de capex para Q2/Q3 2024.\n",
      "\n",
      "---\n",
      "\n",
      "## 3. Análise de Tendências\n",
      "\n",
      "| Métrica | Q1 2024 | YoY % | Comentário |\n",
      "|---------|---------|-------|------------|\n",
      "| Receita Líquida | 12 500 000,00 | +8,3% | Aumento consistente em todas as linhas de produto. |\n",
      "| Margem EBITDA | 32,8% | +1,5p | Melhoria devido a redução de custos de produção e logística. |\n",
      "| Dívida/EBITDA | 1,2x | -0,4x | Redução da alavancagem graças ao aumento do EBITDA. |\n",
      "| ROE | 12,5% | +3,8p | Aumento significativo refletindo melhor rentabilidade sobre patrimônio. |\n",
      "\n",
      "### Tendência de Mercado\n",
      "- A ACME Corp registrou crescimento de participação de mercado em **Setor X** (+2%) e consolidação em **Setor Y** (estável).\n",
      "- Competidores menores estão surgindo no segmento B2B, exigindo atenção.\n",
      "\n",
      "#### Conclusão\n",
      "A empresa apresenta trajetória positiva, com melhorias em rentabilidade e alavancagem. A expansão de mercado deve ser acompanhada por estratégias de diferenciação frente à concorrência emergente.\n",
      "\n",
      "---\n",
      "\n",
      "## 4. Análise de Receita e Lucro\n",
      "\n",
      "### 4.1 Receita\n",
      "- **Segmento A (Produtos) –** 7 200 000,00 (+10% YoY)\n",
      "- **Segmento B (Serviços) –** 5 300 000,00 (+6% YoY)\n",
      "\n",
      "A maior contribuição veio do segmento de produtos, reforçando a necessidade de manter a qualidade e inovação.\n",
      "\n",
      "### 4.2 Lucro\n",
      "- Lucro Bruto: 7 900 000,00 (63,2%) – aumento de 2p.\n",
      "- Lucro Operacional: 4 400 000,00 (35,2%) – crescimento de 3p.\n",
      "- Lucro Líquido: 2 300 000,00 (18,4%) – alta de 15,5%.\n",
      "\n",
      "**Custo Variável** reduziu 1,8% YoY graças a acordos de fornecimento mais favoráveis. **Despesas Gerais e Administrativas** aumentaram apenas 0,9%, mantendo o controle sobre custos fixos.\n",
      "\n",
      "#### Conclusão\n",
      "A ACME Corp consolidou sua margem operacional e manteve lucros crescentes, indicando eficácia na gestão de custos e no pricing estratégico.\n",
      "\n",
      "---\n",
      "\n",
      "## 5. Análise de Posição de Mercado\n",
      "\n",
      "### 5.1 Participação de Mercado\n",
      "- **Setor X (Produtos)**: 23% – aumento de 1,2pp.\n",
      "- **Setor Y (Serviços)**: 17% – estável.\n",
      "\n",
      "### 5.2 Concorrência\n",
      "- **Principal concorrente A** mantém liderança em inovação com 25% de participação.\n",
      "- **Concorrentes emergentes** (B e C) capturam 10% do mercado B2B, focando em soluções digitais.\n",
      "\n",
      "### 5.3 Tendências Tecnológicas\n",
      "- Crescimento da demanda por automação industrial e IoT.\n",
      "- A ACME Corp lançou pilotos de integração digital em Q1 2024 que já geram leads qualificados.\n",
      "\n",
      "#### Conclusão\n",
      "A posição atual é sólida, mas a entrada de concorrentes digitais requer investimentos em R&D e marketing digital. Recomenda‑se acelerar o roadmap de inovação para manter vantagem competitiva.\n",
      "\n",
      "---\n",
      "\n",
      "## 6. Insights & Recomendações Gerais\n",
      "\n",
      "| Área | Insight | Ação Recomendável |\n",
      "|------|---------|-------------------|\n",
      "| **Investimento** | Baixo capex pode limitar expansão | Revisar plano de capex Q2‑Q3; priorizar tecnologia e automação |\n",
      "| **Gestão de Dívida** | Alavancagem estável, porém a dívida de curto prazo cresce | Negociar prazos mais longos; considerar refinanciamento |\n",
      "| **Marketing Digital** | Concorrentes digitais ganhando terreno | Aumentar orçamento em 15% para campanhas B2B e SEO |\n",
      "| **Inovação** | Demandas de IoT crescentes | Investir R&D em soluções conectadas; buscar parcerias estratégicas |\n",
      "| **Sustentabilidade** | Expectativas do mercado por ESG | Implementar métricas de sustentabilidade nos relatórios Q3 |\n",
      "\n",
      "---\n",
      "\n",
      "### Resumo Executivo\n",
      "\n",
      "A ACME Corp concluiu o Q1 2024 com crescimento robusto nas receitas, rentabilidade melhorada e geração de caixa sólida. O balanço patrimonial permanece saudável, embora a diminuição do imobilizado indique necessidade de novos investimentos em tecnologia. A posição de mercado é forte, mas a concorrência digital exige ação proativa em inovação e marketing. Estratégias focadas em capex inteligente, gestão de dívida e expansão digital são cruciais para manter o impulso no próximo trimestre.\n"
     ]
    }
   ],
   "source": [
    "openai = OpenAI(model_name=model, max_tokens=2000) #max 4096\n",
    "\n",
    "response = openai.invoke(prompt)\n",
    "print(\"Saída do LLM:\\n\", response)"
   ]
  },
  {
   "cell_type": "markdown",
   "metadata": {},
   "source": [
    "# Chat"
   ]
  },
  {
   "cell_type": "code",
   "execution_count": 8,
   "metadata": {
    "id": "QGQUp499fKBZ"
   },
   "outputs": [],
   "source": [
    "#equivalência aos roles: system: system, Human: user, AI: assistant\n",
    "chat_template = ChatPromptTemplate.from_messages(\n",
    "    [\n",
    "        SystemMessage(content='Você deve estruturar suas respostas de acordo com o método de análise de negócios, garantindo clareza e concisão.'),\n",
    "        HumanMessagePromptTemplate.from_template('Por favor, gere um relatório detalhado sobre a indústria de tecnologia na região \"{regiao}\".'),\n",
    "        AIMessage(content='Claro, vou começar coletando informações sobre a região e analisando os dados disponíveis.'),\n",
    "        HumanMessage(content='Certifique-se de incluir uma análise SWOT e uma previsão de crescimento para os próximos 5 anos.'),\n",
    "        AIMessage(content='Entendido. Aqui está o relatório completo:')\n",
    "    ]\n",
    ")"
   ]
  },
  {
   "cell_type": "code",
   "execution_count": 9,
   "metadata": {
    "colab": {
     "base_uri": "https://localhost:8080/"
    },
    "id": "WDxgxLrofKEc",
    "outputId": "a3e79711-b163-4824-fed8-0f2c399a4b3f"
   },
   "outputs": [
    {
     "name": "stdout",
     "output_type": "stream",
     "text": [
      "[SystemMessage(content='Você deve estruturar suas respostas de acordo com o método de análise de negócios, garantindo clareza e concisão.'), HumanMessage(content='Por favor, gere um relatório detalhado sobre a indústria de tecnologia na região \"América Latina\".'), AIMessage(content='Claro, vou começar coletando informações sobre a região e analisando os dados disponíveis.'), HumanMessage(content='Certifique-se de incluir uma análise SWOT e uma previsão de crescimento para os próximos 5 anos.'), AIMessage(content='Entendido. Aqui está o relatório completo:')]\n"
     ]
    }
   ],
   "source": [
    "prompt_gerado = chat_template.format_messages(regiao='América Latina')\n",
    "print(prompt_gerado)  "
   ]
  },
  {
   "cell_type": "code",
   "execution_count": 10,
   "metadata": {
    "colab": {
     "base_uri": "https://localhost:8080/"
    },
    "editable": true,
    "id": "daEu9my2fKHm",
    "outputId": "aeeb4f0b-a4bd-4596-c5b3-affc6b8e3426",
    "slideshow": {
     "slide_type": ""
    },
    "tags": []
   },
   "outputs": [
    {
     "name": "stdout",
     "output_type": "stream",
     "text": [
      "Saída do LLM:\n",
      " **Relatório de Análise da Indústria de Tecnologia na América Latina  \n",
      "(Período: 2024 – 2030)**  \n",
      "\n",
      "| Seção | Conteúdo |\n",
      "|-------|----------|\n",
      "| 1. Visão geral do mercado | Tamanho atual, principais players, segmentos (hardware, software, serviços, fintechs, health‑tech, edtech) |\n",
      "| 2. Ambiente regulatório e macroeconômico | Políticas de TI, incentivos fiscais, estabilidade cambial, PIB, taxa de desemprego |\n",
      "| 3. Análise SWOT | Forças, Fraquezas, Oportunidades, Ameaças (com exemplos concretos) |\n",
      "| 4. Tendências tecnológicas | IA generativa, edge computing, 5G/6G, cloud‑native, cybersecurity, blockchain |\n",
      "| 5. Projeção de crescimento | CAGR estimado, cenários base/otimista/pessimista, principais impulsores e gargalos |\n",
      "| 6. Recomendações estratégicas | Entrada em mercado, parcerias, foco em nichos, investimento em talento local |\n",
      "\n",
      "---\n",
      "\n",
      "## 1. Visão Geral do Mercado\n",
      "\n",
      "| País (top 5 por PIB) | Receita de TI (US$ bilhões) | Crescimento CAGR 2020‑24* |\n",
      "|----------------------|-----------------------------|---------------------------|\n",
      "| Brasil               | 25,4                        | 8,3%                      |\n",
      "| México               | 13,1                        | 7,9%                      |\n",
      "| Argentina            | 5,2                         | 6,4%                      |\n",
      "| Colômbia             | 3,9                         | 7,1%                      |\n",
      "| Chile                | 2,8                         | 6,7%                      |\n",
      "\n",
      "\\*Dados consolidados da IDC e Gartner.\n",
      "\n",
      "**Segmentos em ascensão:**\n",
      "\n",
      "- **Fintechs:** 45% do investimento total em startups de tecnologia.  \n",
      "- **Health‑Tech:** 30% de crescimento anual em soluções telemedicina.  \n",
      "- **EdTech:** Adoção pós‑COVID impulsionou o mercado para US$ 4,7 bi (2023).\n",
      "\n",
      "**Principais players globais ativos na região:**\n",
      "\n",
      "- IBM, Microsoft, Amazon Web Services, Google Cloud, Oracle, Salesforce, SAP.\n",
      "\n",
      "---\n",
      "\n",
      "## 2. Ambiente Regulatórios & Macroeconômico\n",
      "\n",
      "| Fator | Impacto |\n",
      "|-------|---------|\n",
      "| **Políticas de Incentivo** (ex.: Lei da Inovação Brasileira – Lei nº 13.979/2020) | +15% de crédito fiscal para R&D em TI. |\n",
      "| **Estabilidade Cambial** | Volatilidade cambial média: ±12% (2019‑24). Impacto direto nos custos de licenciamento e importação de hardware. |\n",
      "| **Taxa de Desemprego** | 7,8% (Brasil), 3,5% (Chile) – indica demanda por mão‑obra qualificada. |\n",
      "| **Regulação de Dados** (ex.: LGPD no Brasil, Marco Civil da Internet na Argentina) | Maior compliance necessário; custo de conformidade ≈ 2,4% do faturamento em TI. |\n",
      "\n",
      "---\n",
      "\n",
      "## 3. Análise SWOT\n",
      "\n",
      "### Forças\n",
      "1. **Capital humano qualificado:** 1,8 milhão de profissionais certificados em cloud e IA.  \n",
      "2. **Ecossistemas de startups vibrantes** (São Paulo, Bogotá, Mexico City).  \n",
      "3. **Infraestrutura crescente de data‑centers** – custo médio US$ 5,6/m²/ano, abaixo da média global.\n",
      "\n",
      "### Fraquezas\n",
      "1. **Fragmentação regulatória** entre países e estados.  \n",
      "2. **Desigualdade no acesso à internet** (cobertura < 70% em áreas rurais).  \n",
      "3. **Dependência de importações de hardware** que aumentam custos operacionais.\n",
      "\n",
      "### Oportunidades\n",
      "1. **Expansão do 5G** – cobertura projetada para 80% da população até 2030.  \n",
      "2. **Adoção de IA generativa** em serviços corporativos (chatbots, automação).  \n",
      "3. **Mercado emergente de fintechs** em países com alta taxa de inclusão bancária digital.\n",
      "\n",
      "### Ameaças\n",
      "1. **Instabilidade política** (ex.: crises econômicas no México e Argentina).  \n",
      "2. **Risco de cyber‑ataques**: aumento de 18% nos últimos 3 anos.  \n",
      "3. **Pressão por preços** de serviços globais (AWS, Azure) em mercados sensíveis a custos.\n",
      "\n",
      "---\n",
      "\n",
      "## 4. Tendências Tecnológicas\n",
      "\n",
      "| Tendência | Impacto na América Latina |\n",
      "|-----------|--------------------------|\n",
      "| **IA Generativa & NLP** | Automação de atendimento e produção de conteúdo; adoção esperada de 35% nas empresas B2B até 2027. |\n",
      "| **Edge Computing** | Redução de latência para IoT em agronegócio e manufatura; investimento em infraestrutura de edge cresce 12% ao ano. |\n",
      "| **Cloud‑Native & Kubernetes** | Adoção crescente entre startups (70% já usam containers). |\n",
      "| **Cybersecurity Avançada** | Necessidade de soluções SOC-as-a-Service; mercado estimado US$ 3,1 bi em 2024. |\n",
      "| **Blockchain & DeFi** | Aplicações em rastreabilidade de cadeias logísticas e fintechs de micro‑crédito. |\n",
      "\n",
      "---\n",
      "\n",
      "## 5. Projeção de Crescimento (CAGR 2024‑2030)\n",
      "\n",
      "| Ano | Receita Estimada (US$ bi) | CAGR* |\n",
      "|-----|---------------------------|-------|\n",
      "| 2024 | 70,3 | – |\n",
      "| 2026 | 93,7 | 12,5% |\n",
      "| 2028 | 124,9 | 13,2% |\n",
      "| 2030 | 165,4 | 13,1% |\n",
      "\n",
      "\\*Cálculo baseado em crescimento de 12,5–13,2% anual, ajustado por inflação média da região (3,6%).\n",
      "\n",
      "**Principais impulsores:**\n",
      "\n",
      "- Adoção de cloud e serviços gerenciados.  \n",
      "- Expansão do mercado de fintechs.  \n",
      "- Investimento público em infraestrutura digital.\n",
      "\n",
      "**Gargalos potenciais:**\n",
      "\n",
      "- Flutuações cambiais e crises políticas.  \n",
      "- Escassez de talentos especializados (especialmente em IA).  \n",
      "\n",
      "---\n",
      "\n",
      "## 6. Recomendações Estratégicas\n",
      "\n",
      "| Objetivo | Ação | KPI |\n",
      "|----------|------|-----|\n",
      "| **Entrada no mercado** | Parcerias com provedores locais (ex.: Movistar, Claro) para bundle de serviços cloud + telecom. | Taxa de adoção do pacote em 12 meses. |\n",
      "| **Diferenciação tecnológica** | Desenvolver solução SaaS de IA generativa focada em compliance regulatório latino‑americano. | Nº de contratos corporativos fechados. |\n",
      "| **Capacitação local** | Programas de certificação (AWS, Azure) + hackathons regionais. | % de profissionais certificados por ano. |\n",
      "| **Gestão de risco** | Implementar SOC-as-a-Service com foco em compliance LGPD/MARCO CIVIL. | Índice de incidentes críticos reduzido. |\n",
      "\n",
      "---\n",
      "\n",
      "### Conclusão\n",
      "\n",
      "A indústria de tecnologia na América Latina apresenta forte potencial de crescimento, impulsionado por avanços regulatórios e digitais. Entretanto, a fragmentação normativa e a volatilidade econômica exigem estratégias flexíveis e foco em parcerias locais. Investir em talentos, inovação em IA e segurança cibernética posicionará as empresas para capturar o mercado crescente dos próximos 5 anos.\n"
     ]
    }
   ],
   "source": [
    "openai = ChatOpenAI(model_name='gpt-3.5-turbo')\n",
    "response = openai.invoke(prompt_gerado)\n",
    "print(\"Saída do LLM:\\n\", response.content)"
   ]
  },
  {
   "cell_type": "code",
   "execution_count": null,
   "metadata": {},
   "outputs": [],
   "source": []
  }
 ],
 "metadata": {
  "colab": {
   "provenance": []
  },
  "kernelspec": {
   "display_name": "Python 3 (ipykernel)",
   "language": "python",
   "name": "python3"
  },
  "language_info": {
   "codemirror_mode": {
    "name": "ipython",
    "version": 3
   },
   "file_extension": ".py",
   "mimetype": "text/x-python",
   "name": "python",
   "nbconvert_exporter": "python",
   "pygments_lexer": "ipython3",
   "version": "3.11.9"
  }
 },
 "nbformat": 4,
 "nbformat_minor": 4
}
