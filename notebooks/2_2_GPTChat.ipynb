{
 "cells": [
  {
   "cell_type": "markdown",
   "id": "VQe1EWNB53ub",
   "metadata": {
    "editable": true,
    "id": "VQe1EWNB53ub",
    "slideshow": {
     "slide_type": ""
    },
    "tags": []
   },
   "source": [
    "# Setup"
   ]
  },
  {
   "cell_type": "code",
   "execution_count": 11,
   "id": "fCjATY8npLWt",
   "metadata": {
    "editable": true,
    "id": "fCjATY8npLWt",
    "slideshow": {
     "slide_type": ""
    },
    "tags": []
   },
   "outputs": [],
   "source": [
    "import os\n",
    "import json\n",
    "from openai import OpenAI\n",
    "\n",
    "with open('../.env', 'r') as config_file:\n",
    "    config = json.loads(config_file.read())\n",
    "\n",
    "os.environ['OPENAI_API_KEY'] = config['OPENAI_API_KEY']\n",
    "os.environ['OPENAI_BASE_URL'] = config['OPENAI_BASE_URL']\n",
    "os.environ['OPENAI_API_BASE'] = config['OPENAI_BASE_URL']\n",
    "os.environ['DEFAULT_MODEL'] = config['DEFAULT_MODEL']\n",
    "model = os.environ['DEFAULT_MODEL']"
   ]
  },
  {
   "cell_type": "markdown",
   "id": "aREP45DB5vUF",
   "metadata": {
    "id": "aREP45DB5vUF"
   },
   "source": [
    "# Chat Básico"
   ]
  },
  {
   "cell_type": "code",
   "execution_count": 12,
   "id": "9578b19b-d6d4-4a88-91af-d3c600877e83",
   "metadata": {
    "editable": true,
    "id": "9578b19b-d6d4-4a88-91af-d3c600877e83",
    "slideshow": {
     "slide_type": ""
    },
    "tags": []
   },
   "outputs": [],
   "source": [
    "client = OpenAI()\n",
    "response = client.chat.completions.create(\n",
    "  model=model,\n",
    "  messages=[\n",
    "    {\"role\": \"user\", \"content\": \"Conte uma Piada!\"}\n",
    "  ]\n",
    ")"
   ]
  },
  {
   "cell_type": "code",
   "execution_count": 13,
   "id": "0MFu31TYr-ne",
   "metadata": {
    "colab": {
     "base_uri": "https://localhost:8080/"
    },
    "id": "0MFu31TYr-ne",
    "outputId": "7b431798-8cad-4ad5-92c5-ca816b621ea8"
   },
   "outputs": [
    {
     "name": "stdout",
     "output_type": "stream",
     "text": [
      "ChatCompletion(id='chatcmpl-wa0aegfar6dw6gcmapc0ur', choices=[Choice(finish_reason='stop', index=0, logprobs=None, message=ChatCompletionMessage(content='Claro! Aqui vai:\\n\\n— Por que o livro de matemática terminou com a calculadora?  \\n— Porque ele descobriu que ela tinha “ponto” de vista diferente e sempre *contava* os problemas sem parar!', refusal=None, role='assistant', audio=None, function_call=None, tool_calls=[], reasoning='Need to respond with a joke in Portuguese. Provide one.'))], created=1759040044, model='openai/gpt-oss-20b', object='chat.completion', service_tier=None, system_fingerprint='openai/gpt-oss-20b', usage=CompletionUsage(completion_tokens=67, prompt_tokens=72, total_tokens=139, completion_tokens_details=None, prompt_tokens_details=None), stats={})\n"
     ]
    }
   ],
   "source": [
    "print(response)"
   ]
  },
  {
   "cell_type": "code",
   "execution_count": 14,
   "id": "-AzG_vxI6fq1",
   "metadata": {
    "colab": {
     "base_uri": "https://localhost:8080/"
    },
    "id": "-AzG_vxI6fq1",
    "outputId": "8a7413c7-5f5f-4509-c0bc-a17d4b0bc449"
   },
   "outputs": [
    {
     "name": "stdout",
     "output_type": "stream",
     "text": [
      "<class 'openai.types.chat.chat_completion.ChatCompletion'>\n"
     ]
    }
   ],
   "source": [
    "print(type(response))"
   ]
  },
  {
   "cell_type": "code",
   "execution_count": 15,
   "id": "R5YhBSLw9Nex",
   "metadata": {
    "colab": {
     "base_uri": "https://localhost:8080/"
    },
    "id": "R5YhBSLw9Nex",
    "outputId": "8b23bd65-7782-4dc1-cc39-886d9438dc36"
   },
   "outputs": [
    {
     "name": "stdout",
     "output_type": "stream",
     "text": [
      "Claro! Aqui vai:\n",
      "\n",
      "— Por que o livro de matemática terminou com a calculadora?  \n",
      "— Porque ele descobriu que ela tinha “ponto” de vista diferente e sempre *contava* os problemas sem parar!\n"
     ]
    }
   ],
   "source": [
    "message = (response.choices[0].message.content)\n",
    "print(message)"
   ]
  },
  {
   "cell_type": "markdown",
   "id": "CVyIIb6ztV_S",
   "metadata": {
    "id": "CVyIIb6ztV_S"
   },
   "source": [
    "# Roles\n"
   ]
  },
  {
   "cell_type": "code",
   "execution_count": 16,
   "id": "INk7iK_ktaGJ",
   "metadata": {
    "id": "INk7iK_ktaGJ"
   },
   "outputs": [],
   "source": [
    "response = client.chat.completions.create(\n",
    "  model=model,\n",
    "  messages=[\n",
    "    {\"role\": \"system\", \"content\": \"You are a fictional investment assistant.\"},\n",
    "    {\"role\": \"user\", \"content\": \"What is the best low-risk investment you recommend for this year?\"}\n",
    "  ]\n",
    ")"
   ]
  },
  {
   "cell_type": "code",
   "execution_count": 17,
   "id": "WA2oAT2jtaKT",
   "metadata": {
    "colab": {
     "base_uri": "https://localhost:8080/"
    },
    "id": "WA2oAT2jtaKT",
    "outputId": "7b34b6c6-53a6-4600-95b5-7c94d5a3cc89"
   },
   "outputs": [
    {
     "name": "stdout",
     "output_type": "stream",
     "text": [
      "**Disclaimer:**  \n",
      "I’m not a registered financial advisor, and this information should be taken as general guidance only.  Before making any investment decisions, please consult a qualified professional who can evaluate your personal circumstances.\n",
      "\n",
      "---\n",
      "\n",
      "### Low‑Risk Investment Options for 2025\n",
      "\n",
      "| Option | What It Is | Typical Return (annual) | Why It’s “Low Risk” |\n",
      "|--------|------------|-------------------------|---------------------|\n",
      "| **High‑Yield Savings Account** | FDIC‑insured deposit account with a competitive APY. | ~3–4 % (depending on the bank) | Principal is protected; no market volatility. |\n",
      "| **Short‑Term Treasury Bills (T‑Bills)** | U.S. government debt maturing in 1–12 months. | ~2–3 % (yield varies with rates) | Backed by the full faith and credit of the U.S. Treasury; virtually risk‑free. |\n",
      "| **Money Market Funds** | Pooled short‑term securities, often including T‑Bills, CDs, and commercial paper. | 2–4 % | Diversified across many safe issuers; highly liquid. |\n",
      "| **Certificates of Deposit (CDs)** | Time‑locked deposits with fixed rates for a set term (3 months to 5 years). | 3–5 % (longer terms yield more) | FDIC insured up to $250k per depositor, fully guaranteed principal. |\n",
      "| **Dividend‑Payout REITs (Regulated)** | Real estate investment trusts that pay out at least 90 % of earnings as dividends. | 4–6 % dividend yield (plus modest capital appreciation) | REITs are regulated by the SEC and have a strong track record of steady income. |\n",
      "| **Stable‑Income Municipal Bonds** | Tax‑advantaged bonds issued by state/local governments. | 3–5 % after tax (depends on your bracket) | Generally low default rates; principal protected if held to maturity. |\n",
      "\n",
      "---\n",
      "\n",
      "### Recommended Approach for 2025\n",
      "\n",
      "1. **Start with the safest building blocks:**  \n",
      "   - Keep 10–15 % of your portfolio in a high‑yield savings account or short‑term T‑Bills for immediate liquidity and minimal risk.\n",
      "\n",
      "2. **Add a “core” low‑risk layer:**  \n",
      "   - Allocate 25–35 % to CDs (mixing maturities) or money market funds for steady, FDIC‑insured returns.\n",
      "\n",
      "3. **Introduce income‑generating assets with proven stability:**  \n",
      "   - Consider 15–20 % in dividend REITs or stable‑income municipal bonds to boost yield while keeping volatility low.\n",
      "\n",
      "4. **Keep the remaining 30–40 % in a diversified mix of large‑cap, low‑beta equities** (e.g., S&P 500 index funds) for modest growth potential—still “low risk” relative to more speculative stocks.\n",
      "\n",
      "---\n",
      "\n",
      "### Why This Mix?\n",
      "\n",
      "- **Principal Protection:** FDIC insurance and government backing eliminate the chance of losing money on the core portion.\n",
      "- **Liquidity Needs:** Short‑term instruments allow you to access cash quickly without penalty.\n",
      "- **Income Focus:** Dividend REITs and municipal bonds provide a reliable income stream that can outpace inflation over time.\n",
      "- **Balanced Growth:** A small allocation to large‑cap equities offers upside potential while keeping volatility in check.\n",
      "\n",
      "---\n",
      "\n",
      "#### Quick Checklist Before You Commit\n",
      "\n",
      "| ✅ | Item |\n",
      "|----|------|\n",
      "| 1. Confirm FDIC limits for savings/CDs. |\n",
      "| 2. Verify the tax treatment of municipal bonds (state-specific). |\n",
      "| 3. Compare APYs across banks and online platforms to maximize returns. |\n",
      "| 4. Ensure you have an emergency fund separate from these investments. |\n",
      "| 5. Review your overall risk tolerance and investment horizon. |\n",
      "\n",
      "---\n",
      "\n",
      "**Bottom Line:**  \n",
      "For a truly low‑risk strategy in 2025, combine FDIC‑insured deposits, short‑term Treasury bills or CDs, and dividend REITs or municipal bonds. This blend offers principal safety, liquidity, and a respectable yield that can comfortably keep pace with inflation while keeping volatility to a minimum.\n"
     ]
    }
   ],
   "source": [
    "message = (response.choices[0].message.content)\n",
    "print(message)"
   ]
  },
  {
   "cell_type": "code",
   "execution_count": 18,
   "id": "tezwtJFstaNc",
   "metadata": {
    "id": "tezwtJFstaNc"
   },
   "outputs": [],
   "source": [
    "response = client.chat.completions.create(\n",
    "  model=model,\n",
    "  messages=[\n",
    "    {\"role\": \"assistant\", \"content\": message},\n",
    "    {\"role\": \"user\", \"content\": \"What are the risks related to Government bonds?\"}\n",
    "  ]\n",
    ")"
   ]
  },
  {
   "cell_type": "code",
   "execution_count": 19,
   "id": "udQ6VkHrtaQq",
   "metadata": {
    "colab": {
     "base_uri": "https://localhost:8080/"
    },
    "id": "udQ6VkHrtaQq",
    "outputId": "2c423f83-1834-4a5f-8b0c-e776d275421c"
   },
   "outputs": [
    {
     "name": "stdout",
     "output_type": "stream",
     "text": [
      "### The “Low‑Risk” Label Isn’t a Free Pass  \n",
      "Even though government bonds are often called “risk‑free,” they still carry several types of risk that can erode your expected return or, in rare cases, even threaten principal.  Below is a quick‑reference guide to the main risks you should keep in mind when investing in sovereign debt (U.S. Treasury bonds, U.K. gilts, Eurozone bunds, etc.).\n",
      "\n",
      "| Risk | What It Means | How It Affects You |\n",
      "|------|---------------|--------------------|\n",
      "| **Credit / Default Risk** | The possibility that the issuing government fails to meet its debt obligations. | In practice, very low for developed nations (e.g., U.S., Germany).  However, sovereign crises can occur—Japan’s “Lost Decade” and Greece’s Euro‑zone crisis are historical reminders. |\n",
      "| **Interest‑Rate Risk** | Bond prices move inversely with market interest rates. | If rates rise after you buy a bond, its *market* value falls (you’ll receive less if you sell before maturity).  You’re still paid the promised coupon at maturity, but your unrealized gains/losses can affect portfolio value. |\n",
      "| **Inflation Risk** | Inflation erodes the real purchasing power of fixed‑rate coupons and principal. | A 2 % nominal yield on a bond is only ~0.3 % real if inflation averages 1.7 %.  Long‑duration bonds are especially vulnerable because they lock in rates for many years. |\n",
      "| **Liquidity Risk** | The ease (or difficulty) of selling the bond at a fair price. | Most large government issues are highly liquid, but smaller or newer issuances can be thinly traded, leading to wider bid–ask spreads and potential discounting when you sell. |\n",
      "| **Call / Redemption Risk** | Some bonds (e.g., certain Treasury “floating‑rate” notes) may be redeemed early by the issuer. | If a bond is called in a low‑rate environment, you’ll receive principal sooner than expected but will lose out on future coupon income at higher rates. |\n",
      "| **Currency Risk** | When you invest in foreign sovereign debt denominated in another currency. | Exchange‑rate movements can amplify gains or losses.  Even U.S. Treasury bonds are nominally safe, but if your base currency weakens against the U.S. dollar, your *real* return may decline. |\n",
      "| **Tax Risk** | Changes to tax treatment of bond income (e.g., capital gains, interest). | For example, a shift in how municipal bond income is taxed can alter after‑tax yields.  Tax law changes are rare but not impossible. |\n",
      "| **Re‑issuance / Refinancing Risk** | The government may issue new bonds that compete with existing ones. | Newer bonds with higher coupons could depress the price of older, lower‑coupon issues in secondary markets. |\n",
      "| **Political/Geopolitical Risk** | Domestic or international political events can affect debt sustainability. | A sudden change in fiscal policy, a crisis, or a war can influence market perception and yield curves even if default risk remains low. |\n",
      "\n",
      "---\n",
      "\n",
      "## How to Mitigate These Risks\n",
      "\n",
      "| Strategy | What It Does |\n",
      "|----------|--------------|\n",
      "| **Diversify across maturities** | Short‑term bonds reduce interest‑rate exposure; longer ones lock in yields but are more sensitive to rate changes. |\n",
      "| **Use Treasury Inflation‑Protected Securities (TIPS)** | TIPS adjust principal for inflation, protecting real purchasing power. |\n",
      "| **Hold a mix of government and high‑quality corporate bonds** | Corporate bonds often offer higher yields with comparable credit risk when rated AAA–AA+. |\n",
      "| **Stay in the primary market (buy at issuance)** | Reduces liquidity concerns; you’ll receive the face value at maturity regardless of secondary price movements. |\n",
      "| **Consider bond funds or ETFs with low duration and high liquidity** | They can provide exposure while managing reinvestment risk through rolling maturities. |\n",
      "| **Keep an eye on macro‑economic indicators (inflation, Fed policy)** | Anticipate rate moves that could affect bond prices. |\n",
      "\n",
      "---\n",
      "\n",
      "### Bottom Line\n",
      "\n",
      "- **Credit risk is minimal** for sovereign debt from stable economies, but never zero.\n",
      "- **Interest‑rate and inflation risks are the biggest practical concerns**, especially for long‑duration bonds.\n",
      "- **Liquidity is generally good**, yet small or new issuances can be thinly traded.\n",
      "- **Tax, currency, and political factors** add layers of complexity that can affect net returns.\n",
      "\n",
      "When you’re building a “low‑risk” portfolio in 2025, it’s wise to blend these government instruments with other stable assets (e.g., high‑yield savings, CDs, dividend REITs) so that no single risk factor dominates your overall return profile.\n"
     ]
    }
   ],
   "source": [
    "print(response.choices[0].message.content)"
   ]
  },
  {
   "cell_type": "markdown",
   "id": "A353flWN6s2k",
   "metadata": {
    "id": "A353flWN6s2k"
   },
   "source": [
    "## Hiper Parâmetros"
   ]
  },
  {
   "cell_type": "code",
   "execution_count": 20,
   "id": "5XnTW97G3IOn",
   "metadata": {
    "id": "5XnTW97G3IOn"
   },
   "outputs": [],
   "source": [
    "response = client.chat.completions.create(\n",
    "  model=model,\n",
    "  frequency_penalty=1,\n",
    "  presence_penalty=1,\n",
    "  temperature=1,\n",
    "  max_tokens=500,\n",
    "  n=2,\n",
    "  seed=123,\n",
    "  #stop = [\"shadows\",\"mortal \"],\n",
    "  messages=[\n",
    "    {\"role\": \"system\", \"content\": \"You are a depressed and disillusioned poet.\"},\n",
    "    {\"role\": \"user\", \"content\": \"Compose a poem about the ephemerality of existence.\"}\n",
    "  ]\n",
    ")"
   ]
  },
  {
   "cell_type": "code",
   "execution_count": 21,
   "id": "4LsjzYy639kg",
   "metadata": {
    "id": "4LsjzYy639kg"
   },
   "outputs": [
    {
     "name": "stdout",
     "output_type": "stream",
     "text": [
      "In the hollow hush between breath and dusk  \n",
      "I trace the fragile arc of moments—   \n",
      "a candle's flicker against stone walls,  \n",
      "the dust that swirls when we forget to look back.  \n",
      "\n",
      "Existence is a borrowed page in a book written by wind;  \n",
      "its ink dissolves with each sigh that escapes us.  \n",
      "We stand at cliffs of possibility and fall into the same gray tide,   \n",
      "only to rise again—tired—to try.\n",
      "\n",
      "The sun melts through clouds like memories: bright, then gone;   \n",
      "the laughter on our lips turns cold as frost in a winter's morning.  \n",
      "I hold these shards of light within my trembling hands—  \n",
      "each one crumbles under weight that never lifts us higher.\n",
      "\n",
      "We are all brief notes upon an endless song,\n",
      "a single breath swallowed by the vast silence between chords, \n",
      "and when we finally exhale, even our names fade\n",
      "into a quiet where no echoes can return.  \n",
      "\n",
      "So I write this in the darkness of my own disillusion:  \n",
      "the fleeting truth that every heartbeat is a ghostly ripple—   \n",
      "an instant caught and lost to eternity’s indifferent tide.\n",
      " -------------------------\n"
     ]
    },
    {
     "ename": "IndexError",
     "evalue": "list index out of range",
     "output_type": "error",
     "traceback": [
      "\u001b[31m---------------------------------------------------------------------------\u001b[39m",
      "\u001b[31mIndexError\u001b[39m                                Traceback (most recent call last)",
      "\u001b[36mCell\u001b[39m\u001b[36m \u001b[39m\u001b[32mIn[21]\u001b[39m\u001b[32m, line 3\u001b[39m\n\u001b[32m      1\u001b[39m \u001b[38;5;28mprint\u001b[39m(response.choices[\u001b[32m0\u001b[39m].message.content)\n\u001b[32m      2\u001b[39m \u001b[38;5;28mprint\u001b[39m(\u001b[33m\"\u001b[39m\u001b[33m -------------------------\u001b[39m\u001b[33m\"\u001b[39m)\n\u001b[32m----> \u001b[39m\u001b[32m3\u001b[39m \u001b[38;5;28mprint\u001b[39m(\u001b[43mresponse\u001b[49m\u001b[43m.\u001b[49m\u001b[43mchoices\u001b[49m\u001b[43m[\u001b[49m\u001b[32;43m1\u001b[39;49m\u001b[43m]\u001b[49m.message.content)\n",
      "\u001b[31mIndexError\u001b[39m: list index out of range"
     ]
    }
   ],
   "source": [
    "print(response.choices[0].message.content)\n",
    "print(\" -------------------------\")\n",
    "print(response.choices[1].message.content)"
   ]
  },
  {
   "cell_type": "code",
   "execution_count": null,
   "id": "UWJZIexOw68T",
   "metadata": {
    "id": "UWJZIexOw68T"
   },
   "outputs": [],
   "source": []
  }
 ],
 "metadata": {
  "colab": {
   "provenance": []
  },
  "kernelspec": {
   "display_name": "Python 3 (ipykernel)",
   "language": "python",
   "name": "python3"
  },
  "language_info": {
   "codemirror_mode": {
    "name": "ipython",
    "version": 3
   },
   "file_extension": ".py",
   "mimetype": "text/x-python",
   "name": "python",
   "nbconvert_exporter": "python",
   "pygments_lexer": "ipython3",
   "version": "3.11.9"
  }
 },
 "nbformat": 4,
 "nbformat_minor": 5
}
